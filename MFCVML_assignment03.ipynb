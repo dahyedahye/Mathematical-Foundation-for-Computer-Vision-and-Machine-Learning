{
 "cells": [
  {
   "cell_type": "markdown",
   "metadata": {},
   "source": [
    "# Demonstration of $K$-means algorithm\n",
    "\n",
    "**Name: Dahye Kim (김다혜)**  \n",
    "**ID: 20153712**  \n",
    "**Date: 04 October 2018**  \n",
    "**Project Github: https://github.com/joyfuldahye/MFCVML_assignment03**  \n",
    "\n",
    "--------------------------------------------------------------------------"
   ]
  },
  {
   "cell_type": "markdown",
   "metadata": {},
   "source": [
    "# Essential Visualisation\n",
    "1. Input data\n",
    "2. Initial label\n",
    "3. Initial centroid\n",
    "4. Final label\n",
    "5. Final centroid\n",
    "6. Energy per each iteration\n",
    "\n",
    "# Essential Functions\n",
    "1. generatePointCluster: (number of clusters, number of points)\n",
    "2. computeDistance: (a pair of points)\n",
    "3. initialseLabel: (number of clusters)\n",
    "4. computeCentroid: (number of clusters)\n",
    "5. assignLabel: (number of clusters, list of distances)\n",
    "6. computeEnergy: (list of data, list of labels)"
   ]
  },
  {
   "cell_type": "markdown",
   "metadata": {},
   "source": [
    "## 0. Import packages for plotting graphs and manipulation data"
   ]
  },
  {
   "cell_type": "code",
   "execution_count": 1,
   "metadata": {},
   "outputs": [],
   "source": [
    "import numpy as np\n",
    "import pandas as pd\n",
    "from matplotlib import pyplot as plt"
   ]
  },
  {
   "cell_type": "markdown",
   "metadata": {},
   "source": [
    "## 1. Generate point cluster"
   ]
  },
  {
   "cell_type": "code",
   "execution_count": 2,
   "metadata": {},
   "outputs": [],
   "source": [
    "data =[[0.7,  3.0],\n",
    "            [5.0,  2.5],\n",
    "            [3.8,  6.0],\n",
    "            [9.0,  7.0],\n",
    "            [2.5,  9.0],\n",
    "            [9.8,  1.5],\n",
    "            [5.8,  5.0], \n",
    "            [7.0,  3.2],\n",
    "            [2.8,  6.0],\n",
    "            [1.6,  2.8],\n",
    "            [4.5,  3.6],\n",
    "            [7.2,  7.5],\n",
    "            [6.0,  8.0],\n",
    "            [2.0,  3.2],\n",
    "            [3.0,  8.0],\n",
    "            [8.0,  9.8],\n",
    "            [3.5,  7.4],\n",
    "            [1.2,  2.4],\n",
    "            [0.2,  8.5],\n",
    "            [3.6,  2.6],\n",
    "            [7.2,  7.1],\n",
    "            [8.9,  9.3],\n",
    "            [1.3,  1.6],\n",
    "            [5.2,  7.2],\n",
    "            [6.7,  5.5],\n",
    "            [9.2,  6.2],\n",
    "            [4.3,  7.3],\n",
    "            [6.2,  8.4],\n",
    "            [7.3,  3.7]]\n"
   ]
  },
  {
   "cell_type": "markdown",
   "metadata": {},
   "source": [
    "### Plot input points"
   ]
  },
  {
   "cell_type": "code",
   "execution_count": 3,
   "metadata": {},
   "outputs": [
    {
     "data": {
      "image/png": "[encoded data removed]",
      "text/plain": [
       "<Figure size 360x360 with 1 Axes>"
      ]
     },
     "metadata": {},
     "output_type": "display_data"
    }
   ],
   "source": [
    "xs, ys = zip(*data)\n",
    "plt.figure(figsize=(5, 5))\n",
    "plt.scatter(x = xs, y = ys, color='dimgrey', label = \"input\")\n",
    "plt.xlabel('x')\n",
    "plt.ylabel('y')\n",
    "plt.legend(bbox_to_anchor=(1.05, 1), loc=2, borderaxespad=0.)\n",
    "plt.show()"
   ]
  },
  {
   "cell_type": "markdown",
   "metadata": {},
   "source": [
    "> An initial state of points"
   ]
  },
  {
   "cell_type": "markdown",
   "metadata": {},
   "source": [
    "## 2. Define a function to randomly assign labels to each point"
   ]
  },
  {
   "cell_type": "code",
   "execution_count": 4,
   "metadata": {},
   "outputs": [],
   "source": [
    "def initialiseLabel(data, k):\n",
    "    labels = []\n",
    "    for i in range(len(data)):\n",
    "        labels.append(np.random.choice(range(k)))\n",
    "    return labels"
   ]
  },
  {
   "cell_type": "markdown",
   "metadata": {},
   "source": [
    "## 3. Define a function to compute centroids with given points and labels: $z_j = (1/|G_j|)\\displaystyle\\sum_{i\\in G_j}x_i$"
   ]
  },
  {
   "cell_type": "code",
   "execution_count": 5,
   "metadata": {},
   "outputs": [],
   "source": [
    "def computeCentroid(data, labels, k):\n",
    "    centroids = []\n",
    "    for label in range(k):\n",
    "        label_data_xs = []\n",
    "        label_data_ys = []\n",
    "        for i in range(len(data)):\n",
    "            if labels[i] == label:\n",
    "                label_data_xs.append(data[i][0])\n",
    "                label_data_ys.append(data[i][1])\n",
    "        centroids.append([np.mean(label_data_xs), np.mean(label_data_ys)])\n",
    "    return centroids"
   ]
  },
  {
   "cell_type": "markdown",
   "metadata": {},
   "source": [
    "## 4. Plot randomly labeled points and the centroid of  each label group"
   ]
  },
  {
   "cell_type": "code",
   "execution_count": 6,
   "metadata": {},
   "outputs": [
    {
     "data": {
      "image/png": "[encoded data removed]",
      "text/plain": [
       "<Figure size 360x360 with 1 Axes>"
      ]
     },
     "metadata": {},
     "output_type": "display_data"
    }
   ],
   "source": [
    "k = 3\n",
    "init_labels = initialiseLabel(data, k)\n",
    "init_centroids = computeCentroid(data, init_labels, k)\n",
    "colors = ['g', 'c', 'm']\n",
    "\n",
    "plt.figure(figsize=(5, 5))\n",
    "for i in range(len(data)):\n",
    "    x = data[i][0]\n",
    "    y = data[i][1]\n",
    "    label = init_labels[i]\n",
    "    plt.scatter(x=x, y=y, color=colors[label])\n",
    "\n",
    "for i in range(len(init_centroids)):\n",
    "    centroid_x = init_centroids[i][0]\n",
    "    centroid_y = init_centroids[i][1]\n",
    "    plt.scatter (x = centroid_x, y = centroid_y, color = colors[i], marker = \"D\", edgecolor='black', label=f\"centroid {i+1}\")\n",
    "\n",
    "plt.legend(bbox_to_anchor=(1.05, 1), loc=2, borderaxespad=0.)\n",
    "plt.show()"
   ]
  },
  {
   "cell_type": "markdown",
   "metadata": {},
   "source": [
    "> Each color stands for each label. At this moment, it's hard to find any similarity among points in the same group, because labels are randomly assigned."
   ]
  },
  {
   "cell_type": "markdown",
   "metadata": {},
   "source": [
    "## 5. Define a function to compute distance: $distances_{ij}=\\Vert x_i - z_j\\Vert$"
   ]
  },
  {
   "cell_type": "code",
   "execution_count": 7,
   "metadata": {},
   "outputs": [],
   "source": [
    "def computeDistance(data, labels, centroids):\n",
    "    # distances contains all distance info\n",
    "    distances = []\n",
    "    for i in range(len(data)):\n",
    "        data_x = data[i][0]\n",
    "        data_y = data[i][1]\n",
    "        \n",
    "        # distance contain each centroid distance\n",
    "        distance = []\n",
    "        for centroid in centroids:\n",
    "            centroid_x = centroid[0]\n",
    "            centroid_y = centroid[1]\n",
    "            \n",
    "            # distance_k is a distance from k centroid\n",
    "            distance_k = np.sqrt((data_x - centroid_x) ** 2  + (data_y - centroid_y) ** 2)\n",
    "            distance.append(distance_k)\n",
    "        distances.append(distance)\n",
    "    return distances"
   ]
  },
  {
   "cell_type": "markdown",
   "metadata": {},
   "source": [
    "## 6. Define a function to assign the closest centroid as a new label"
   ]
  },
  {
   "cell_type": "code",
   "execution_count": 8,
   "metadata": {},
   "outputs": [],
   "source": [
    "def assignLabel(k, distances):\n",
    "    labels = []\n",
    "    # Assign the closest centroid as a label\n",
    "    for i in range(len(distances)):\n",
    "        distance = distances[i]\n",
    "        labels.append(np.argmin(distance))\n",
    "    return labels"
   ]
  },
  {
   "cell_type": "markdown",
   "metadata": {},
   "source": [
    "> At first, we randomly assigned labels to points because because we didn't have available distance info. However, after assigning initial labels, we can calculate distance between the centroid of each group and each point. It enables assinging a new label according to the distance."
   ]
  },
  {
   "cell_type": "markdown",
   "metadata": {},
   "source": [
    "## 7. Calculate distances and assign new labels"
   ]
  },
  {
   "cell_type": "code",
   "execution_count": 9,
   "metadata": {},
   "outputs": [],
   "source": [
    "distances = computeDistance(data, init_labels, init_centroids)\n",
    "new_labels = assignLabel(3, distances)"
   ]
  },
  {
   "cell_type": "markdown",
   "metadata": {},
   "source": [
    "## 8. Plot newly clustered result with the new centroids and labels"
   ]
  },
  {
   "cell_type": "code",
   "execution_count": 10,
   "metadata": {},
   "outputs": [
    {
     "data": {
      "image/png": "[encoded data removed]",
      "text/plain": [
       "<Figure size 360x360 with 1 Axes>"
      ]
     },
     "metadata": {},
     "output_type": "display_data"
    }
   ],
   "source": [
    "init_centroids = computeCentroid(data, init_labels, 3)\n",
    "colors = ['g', 'c', 'm']\n",
    "\n",
    "plt.figure(figsize=(5, 5))\n",
    "\n",
    "for i in range(len(data)):\n",
    "    x = data[i][0]\n",
    "    y = data[i][1]\n",
    "    label = new_labels[i]\n",
    "    plt.scatter(x=x, y=y, color=colors[label])\n",
    "\n",
    "for i in range(len(init_centroids)):\n",
    "    centroid_x = init_centroids[i][0]\n",
    "    centroid_y = init_centroids[i][1]\n",
    "    plt.scatter (x = centroid_x, y = centroid_y, color = colors[i], marker = \"D\", edgecolor='black', label=f\"centroid {i+1}\")\n",
    "\n",
    "plt.legend(bbox_to_anchor=(1.05, 1), loc=2, borderaxespad=0.)\n",
    "plt.show()"
   ]
  },
  {
   "cell_type": "markdown",
   "metadata": {},
   "source": [
    "> This new result shows the stronger similarity among points in the same group than the previous result."
   ]
  },
  {
   "cell_type": "markdown",
   "metadata": {},
   "source": [
    "## 9. Define a function to compute energy: $J_j = (1/N)\\displaystyle\\sum_{i\\in G_j}\\Vert x_i - z_j\\Vert^2$"
   ]
  },
  {
   "cell_type": "code",
   "execution_count": 11,
   "metadata": {},
   "outputs": [],
   "source": [
    "def computeEnergy(distances, labels):\n",
    "    J = 0\n",
    "    N = len(distances)\n",
    "    for i in range(N):\n",
    "        # distance has info distances between ith data and each centroid\n",
    "        distance = distances[i]\n",
    "        # find the data label's centroid distance\n",
    "        distance_k = distance[labels[i]]\n",
    "        J = J + distance_k ** 2 \n",
    "    J = J / N\n",
    "    return J"
   ]
  },
  {
   "cell_type": "markdown",
   "metadata": {},
   "source": [
    "## 10. Repeat computing new centroids and assigning new labels until centroids do not change\n",
    "\n",
    "* Compute energy at every each iteration"
   ]
  },
  {
   "cell_type": "code",
   "execution_count": 12,
   "metadata": {},
   "outputs": [
    {
     "data": {
      "image/png": "[encoded data removed]",
      "text/plain": [
       "<Figure size 360x360 with 1 Axes>"
      ]
     },
     "metadata": {},
     "output_type": "display_data"
    },
    {
     "data": {
      "image/png": "[encoded data removed]",
      "text/plain": [
       "<Figure size 360x360 with 1 Axes>"
      ]
     },
     "metadata": {},
     "output_type": "display_data"
    },
    {
     "data": {
      "image/png": "[encoded data removed]",
      "text/plain": [
       "<Figure size 360x360 with 1 Axes>"
      ]
     },
     "metadata": {},
     "output_type": "display_data"
    },
    {
     "data": {
      "text/plain": [
       "[<matplotlib.lines.Line2D at 0x10daf0160>]"
      ]
     },
     "execution_count": 12,
     "metadata": {},
     "output_type": "execute_result"
    },
    {
     "data": {
      "image/png": "[encoded data removed]",
      "text/plain": [
       "<Figure size 432x288 with 1 Axes>"
      ]
     },
     "metadata": {},
     "output_type": "display_data"
    }
   ],
   "source": [
    "prev_centroids = init_centroids\n",
    "prev_labels = new_labels\n",
    "\n",
    "energies = []\n",
    "\n",
    "# Until centroids do not change,\n",
    "# repeat computing new centroids and assigning new labels to the points with the centroids\n",
    "while True:\n",
    "    new_centroids = computeCentroid(data, prev_labels, 3)\n",
    "    distances = computeDistance(data, prev_labels, new_centroids)\n",
    "    new_labels = assignLabel(3, distances)\n",
    "\n",
    "    # When centroids do not change any more, break this loop\n",
    "    if prev_centroids == new_centroids:\n",
    "        break\n",
    "    prev_centroids = new_centroids\n",
    "    prev_labels = new_labels\n",
    "    # Compute energy \n",
    "    energies.append(computeEnergy(distances, new_labels))\n",
    "    \n",
    "    plt.figure(figsize=(5, 5))\n",
    "    \n",
    "    # Plot the graph\n",
    "    for i in range(len(data)):\n",
    "        x = data[i][0]\n",
    "        y = data[i][1]\n",
    "        label = new_labels[i]\n",
    "        plt.scatter(x=x, y=y, color=colors[label])\n",
    "\n",
    "    for i in range(len(init_centroids)):\n",
    "        centroid_x = new_centroids[i][0]\n",
    "        centroid_y = new_centroids[i][1]\n",
    "        plt.scatter (x = centroid_x, y = centroid_y, color = colors[i], marker = \"D\", edgecolor='black', label=f\"centroid {i+1}\")\n",
    "        \n",
    "    \n",
    "    plt.legend(bbox_to_anchor=(1.05, 1), loc=2, borderaxespad=0.)\n",
    "    plt.show()\n",
    "    \n",
    "    \n",
    "plt.plot(energies, label='energies')"
   ]
  },
  {
   "cell_type": "code",
   "execution_count": 13,
   "metadata": {},
   "outputs": [
    {
     "data": {
      "text/plain": [
       "[5.817080206453248, 4.825210994040018, 4.766382625994696]"
      ]
     },
     "execution_count": 13,
     "metadata": {},
     "output_type": "execute_result"
    }
   ],
   "source": [
    "energies"
   ]
  },
  {
   "cell_type": "markdown",
   "metadata": {},
   "source": [
    "> The size of energy decreases at each iteration step meaning that centroids has been opimized. The second scattergram shows visibly different centroids with the first one. However, the third one is slightly changed compared to the second one. Thus, the size of energy decreases far more from the first one to second one than from the second one to the third one."
   ]
  },
  {
   "cell_type": "markdown",
   "metadata": {},
   "source": [
    "## Reference\n",
    "[1] Plot two-dimensional scatter graph with pandas (http://pandas.pydata.org/pandas-docs/version/0.19.0/visualization.html)  \n",
    "[2] Generate random float (https://docs.scipy.org/doc/numpy/reference/generated/numpy.random.uniform.html)  \n",
    "[3] Indexing and Selecting Data (https://pandas.pydata.org/pandas-docs/stable/indexing.html)  \n",
    "[4] Selecting Subsets of Data in Pandas (https://medium.com/dunder-data/selecting-subsets-of-data-in-pandas-6fcd0170be9c)"
   ]
  }
 ],
 "metadata": {
  "kernelspec": {
   "display_name": "Python 3",
   "language": "python",
   "name": "python3"
  },
  "language_info": {
   "codemirror_mode": {
    "name": "ipython",
    "version": 3
   },
   "file_extension": ".py",
   "mimetype": "text/x-python",
   "name": "python",
   "nbconvert_exporter": "python",
   "pygments_lexer": "ipython3",
   "version": "3.6.5"
  }
 },
 "nbformat": 4,
 "nbformat_minor": 2
}
