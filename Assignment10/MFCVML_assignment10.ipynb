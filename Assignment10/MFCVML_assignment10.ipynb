{
 "cells": [
  {
   "cell_type": "markdown",
   "metadata": {},
   "source": [
    "# Build a binary classifier\n",
    "### With a feature function drawn from a normal distribution\n",
    "\n",
    "**Name: Dahye Kim (김다혜)**  \n",
    "**ID: 20153712**  \n",
    "**Date: 06 December 2018**  \n",
    "**Project Github:** https://github.com/joyfuldahye/MFCVML_Assignments/tree/master/Assignment10  \n",
    "\n",
    "**Requirements** \n",
    "\n",
    "* Define a linear bi-partitioning function $\\tilde{f}_n$ to classify digit $n = 0,1,...,9$ against all the other digits using **training data** at MNIST dataset\n",
    "* Define the classifier $\\hat{f}(x) = argmax_n\\tilde{f}_n(x)$ using the $arg max$ over the index for the digits.  \n",
    "* Evaluate the performance of the classifier $\\hat{f}$ using **testing data** at MNIST dataset based on $F_1$ score\n",
    "\n",
    "* Let $x = (x_1, x_2, ..., x_{784})$ be a vector that represent an image of the size 28 x 28 (vectorised by column-wise)\n",
    "* Let $f_i$ be a feature function such that $f_i:\\mathbb{R}^{784} \\to \\mathbb{R}:$  \n",
    "$f_i(x) = r_i^{T}x, \\space r_i \\sim N(0,\\sigma),\\space r_i \\in \\mathbb{R}^{784}$  \n",
    "  where $r_i$ denotes a random vector drawn from a normal distribution. (function: numpy.random.normal)\n",
    "* The partitioning function $\\tilde{f}: \\mathbb{R}^{784} \\to \\mathbb{R}$ is defined by:  \n",
    "$\\tilde{f}(x;\\theta)=\\theta_1f_1(x)+\\theta_2f_2(x)+...+\\theta_{p}f_{p}(x)$ \n",
    "    where $\\theta = (\\theta_1, \\theta_2,...,\\theta_{p})$ denotes the model parameters\n",
    "\n",
    "**Essential Visualisation**\n",
    "\n",
    "* Try with varying the number of parameters $p$ with the standard deviation $\\sigma = 1$ of the random feature vector $r$  \n",
    "* Present the confusion matrix $M(i,j)$ that indicates the number of classification for the digit $i$ as the digit $j$\n",
    "* Present the best $F_1$ score among the results with different number of parameters $p$  \n",
    "  * $F_1$ score $= 2 * \\frac{precision*recall}{precision+recall}$\n",
    "  * Precision $= \\frac{True positive}{All positive}$\n",
    "  * Recall $= \\frac{True positive}{True positive + False negative}$\n",
    "\n",
    "\n",
    "-----------------------------------------------------------------------"
   ]
  },
  {
   "cell_type": "markdown",
   "metadata": {},
   "source": [
    "## Import libraries and define variables"
   ]
  },
  {
   "cell_type": "code",
   "execution_count": 1,
   "metadata": {},
   "outputs": [],
   "source": [
    "import matplotlib.pyplot as plt\n",
    "import numpy as np\n",
    "import pandas as pd\n",
    "from copy import deepcopy\n",
    "\n",
    "# for confusion matrix\n",
    "from sklearn.metrics import confusion_matrix\n",
    "import seaborn as sns"
   ]
  },
  {
   "cell_type": "markdown",
   "metadata": {},
   "source": [
    "## Define data loader class for MNIST  \n",
    "* **generate_feature_functions**\n",
    "  * feature function $f_i:\\mathbb{R}^{784} \\to \\mathbb{R}:$  \n",
    "$f_i(x) = r_i^{T}x, \\space r_i \\sim N(0,\\sigma),\\space r_i \\in \\mathbb{R}^{784}$  \n",
    "  where $r_i$ denotes a random vector drawn from a normal distribution. (function: numpy.random.normal)"
   ]
  },
  {
   "cell_type": "code",
   "execution_count": 2,
   "metadata": {},
   "outputs": [],
   "source": [
    "# mnist data loader\n",
    "class MnistDataLoader(object):\n",
    "    def __init__(self, file_data_train, file_data_test, num_parameters, mu, sigma, size_row=28, size_col=28):\n",
    "        h_data_train    = open(file_data_train, \"r\")\n",
    "        h_data_test     = open(file_data_test, \"r\")\n",
    "        \n",
    "        # raw data\n",
    "        self.data_train = h_data_train.readlines()\n",
    "        self.data_test = h_data_test.readlines()\n",
    "        self.num_train   = len(self.data_train)   # number of training images\n",
    "        self.num_test    = len(self.data_test)    # number of testing images\n",
    "        h_data_train.close()\n",
    "        h_data_test.close()\n",
    "        \n",
    "        # info data \n",
    "        self.size_row = size_row\n",
    "        self.size_col = size_col\n",
    "        self.data_length = self.size_row * self.size_col\n",
    "        \n",
    "        # preprocessing data\n",
    "        self.list_image_train    = np.empty((self.size_row * self.size_col, self.num_train), dtype=float)\n",
    "        self.list_label_train    = np.empty(self.num_train, dtype=int)\n",
    "\n",
    "        self.list_image_test     = np.empty((self.size_row * self.size_col, self.num_test), dtype=float)\n",
    "        self.list_label_test     = np.empty(self.num_test, dtype=int)\n",
    "        \n",
    "        self.preprocess_data()\n",
    "        \n",
    "        # set parameters\n",
    "        self.p = num_parameters\n",
    "        self.mu = mu\n",
    "        self.sigma = sigma\n",
    "        \n",
    "        # set feature vectors\n",
    "        self.generate_feature_vectors()\n",
    "        \n",
    "        # init prediction result\n",
    "        self.prediction = 0\n",
    "        \n",
    "\n",
    "    def normalize(self, data):\n",
    "        data_normalized = (data - min(data)) / (max(data) - min(data))\n",
    "        return(data_normalized)\n",
    "        \n",
    "    def preprocess_data(self):\n",
    "        for count, line in enumerate(self.data_train):\n",
    "            line_data   = line.split(',')\n",
    "            label       = line_data[0]\n",
    "            im_vector   = np.asfarray(line_data[1:])\n",
    "            im_vector   = self.normalize(im_vector)\n",
    "\n",
    "            self.list_label_train[count]     = label\n",
    "            self.list_image_train[:, count]  = im_vector    \n",
    "\n",
    "        for count, line in enumerate(self.data_test):\n",
    "            line_data   = line.split(',')\n",
    "            label       = line_data[0]\n",
    "            im_vector   = np.asfarray(line_data[1:])\n",
    "            im_vector   = self.normalize(im_vector)\n",
    "\n",
    "            self.list_label_test[count]      = label\n",
    "            self.list_image_test[:, count]   = im_vector   \n",
    "            \n",
    "    # generate basis functions with varing p\n",
    "    def generate_feature_vectors(self):\n",
    "        self.basis_functions = np.zeros((self.data_length, self.p), dtype=float)\n",
    "        self.feature_vectors = np.zeros((self.p, self.num_train), dtype=float)\n",
    "        for i in range(self.p):\n",
    "            random_normal_vector = np.random.normal(self.mu, self.sigma, self.data_length)\n",
    "            self.basis_functions[:,i] = random_normal_vector\n",
    "        for data in range(self.num_train):\n",
    "            for p in range(self.p):\n",
    "                self.feature_vectors[p, data] = np.sum(self.basis_functions[:, p] * self.list_image_train[:, data])\n",
    "                \n",
    "#     def generate_basis_functions(self):\n",
    "#         self.basis_functions = np.zeros((self.data_length, self.p), dtype=float)\n",
    "#         for i in range(self.p):\n",
    "#             random_normal_vector = np.random.normal(self.mu, self.sigma, self.data_length)\n",
    "#             self.basis_functions[:,i] = random_normal_vector"
   ]
  },
  {
   "cell_type": "markdown",
   "metadata": {},
   "source": [
    "## Define a bi-classifier class to detect 'k' with sign function\n",
    "\n",
    "\n",
    "* **Initialisation**\n",
    "  * set learning rate\n",
    "  * randomly initailse the first model parameters\n",
    "\n",
    "* **Predict with sign function**\n",
    "  * $sign(x) =   \\begin{cases}\n",
    "    +1       & \\quad \\text{if } x \\geq0\\\\\n",
    "    -1  & \\quad \\text{if } x \\text{ < 0}\n",
    "  \\end{cases}$\n",
    "* **Update model parameters**\n",
    "  * $\\theta_p =   \\begin{cases}\n",
    "    \\theta_p + (1 * \\alpha * x_i)       & \\quad \\text{if } \\hat{f}(x) = -1 but\\space y = 1 \\\n",
    "    \\\\\n",
    "     \\theta_p + (-1 * \\alpha * x_i)  & \\quad \\text{if }  \\hat{f}(x) = 1 but\\space y = -1\n",
    "  \\end{cases}$\n",
    "    * where $\\alpha = learning\\space rate$\n",
    "    * where $x_i = r_p^{T}x_j$"
   ]
  },
  {
   "cell_type": "code",
   "execution_count": 3,
   "metadata": {},
   "outputs": [],
   "source": [
    "# classifier using argmax function\n",
    "class MultiBinaryClassifier(object):\n",
    "    def __init__(self, data_loader, learning_rate):\n",
    "        self.data_loader = data_loader\n",
    "        \n",
    "        self.num_parameter = self.data_loader.p\n",
    "        self.learning_rate = learning_rate\n",
    "        self.basis_functions = self.data_loader.basis_functions\n",
    "        # init the model parameters (randomly)\n",
    "        self.model_parameters = np.random.uniform(-1, 1, self.num_parameter)\n",
    "        self.list_updated_model_parameters = [self.model_parameters]\n",
    "\n",
    "    def predict(self, x):\n",
    "        if np.sum(x * self.model_parameters) >= 0:\n",
    "            return 1\n",
    "        else:\n",
    "            return -1\n",
    "\n",
    "    def update_model_parameters(self, x, y):\n",
    "        if self.predict(x) != y: # if prediction is false\n",
    "#         if self.data_loader.prediction != y: # if prediction is false\n",
    "            if y == 1: # when false negative\n",
    "                for j in range(self.data_loader.p):\n",
    "                    change = (1 * self.learning_rate * x[j])\n",
    "                    new_parameter = (self.model_parameters[j] + change)\n",
    "                    self.model_parameters[j] = new_parameter\n",
    "            else: # when false positive\n",
    "                for j in range(self.data_loader.p):\n",
    "                    change = (-1 * self.learning_rate * x[j])\n",
    "                    new_parameter = self.model_parameters[j] + change\n",
    "                    self.model_parameters[j] = new_parameter\n",
    "        else:\n",
    "            self.model_parameters = self.model_parameters"
   ]
  },
  {
   "cell_type": "markdown",
   "metadata": {},
   "source": [
    "## Define a trainer class with sign function  \n",
    "* **Initialisation**  \n",
    "  * Assign new labels to train and test images $if\\space k \\to 1,$ $if \\space not\\space k \\to -1$\n",
    "* **Train**  \n",
    "  * Execute prediction and update model parameters as much as given epoch"
   ]
  },
  {
   "cell_type": "code",
   "execution_count": 4,
   "metadata": {},
   "outputs": [],
   "source": [
    "# Multi Trainer\n",
    "class MultiBinaryTrainerWithSign(object):\n",
    "    def __init__(self, classifier, data_loader):\n",
    "        self.classifier = classifier\n",
    "        self.data_loader = deepcopy(data_loader)\n",
    "        self.prediction_result_train = []\n",
    "        self.multi_train_labels = np.zeros((10, self.data_loader.num_train), dtype=float)\n",
    "        #self.multi_test_labels = np.zeros((10, self.data_loader.num_test), dtype=float)\n",
    "        \n",
    "        # change train label \n",
    "        for label in range(10):\n",
    "            for i, train_label in enumerate(self.data_loader.list_label_train):\n",
    "                if train_label == label:\n",
    "                    self.multi_train_labels[label, i] = 1\n",
    "                else:\n",
    "                    self.multi_train_labels[label, i] = -1\n",
    "        \n",
    "        # change test label\n",
    "        for i, test_label in enumerate(self.data_loader.list_label_test):\n",
    "            if test_label == 0:\n",
    "                self.data_loader.list_label_test[i] = 1\n",
    "            else:\n",
    "                self.data_loader.list_label_test[i] = -1\n",
    "        \n",
    "\n",
    "    def train(self, num_epoch):\n",
    "        self.label_model_parameters = []\n",
    "        for label in range(10):\n",
    "            print(f'bi-train for label {label}')\n",
    "            self.classifier.model_parameters = np.random.uniform(-1, 1, self.data_loader.p)\n",
    "            for e in range(num_epoch):\n",
    "                self.prediction_result_train = []\n",
    "                num_collect = 0\n",
    "                \n",
    "                for i in range(self.data_loader.num_train):\n",
    "                    x = self.data_loader.feature_vectors[:, i]\n",
    "                    y = self.multi_train_labels[label, i]\n",
    "                    self.data_loader.prediction = self.classifier.predict(x)\n",
    "                    self.prediction_result_train.append(self.data_loader.prediction)\n",
    "\n",
    "                    if y == self.data_loader.prediction:\n",
    "                        num_collect += 1\n",
    "\n",
    "                    self.classifier.update_model_parameters(x, y)\n",
    "                print('Epoch=%d, Accuracy=%.6f' % (e, num_collect / self.data_loader.num_train))\n",
    "            self.label_model_parameters.append(self.classifier.model_parameters)"
   ]
  },
  {
   "cell_type": "markdown",
   "metadata": {},
   "source": [
    "## Define a classifier to decide label using argmax\n",
    "* **Predict with argmax**\n",
    "  * Define the classifier $\\hat{f}(x) = argmax_{k=1,...,10}\\tilde{f}_k(x)$ using the $arg max$ over the index for the digits."
   ]
  },
  {
   "cell_type": "code",
   "execution_count": 5,
   "metadata": {},
   "outputs": [],
   "source": [
    "class LabelClassifier(object):\n",
    "    def __init__(self, data_loader, binary_classifier, binary_trainer):\n",
    "        self.data_loader = deepcopy(data_loader)\n",
    "        self.binary_classifier = binary_classifier\n",
    "        self.binary_trainer = binary_trainer\n",
    "        \n",
    "        self.real_pred_value = np.zeros(10, dtype=float)\n",
    "        \n",
    "\n",
    "    def predict_label(self, x):\n",
    "        for i in range(10):\n",
    "            self.real_pred_value[i] = np.sum(x * self.binary_trainer.label_model_parameters[i])\n",
    "        return np.argmax(self.real_pred_value)\n",
    "            "
   ]
  },
  {
   "cell_type": "markdown",
   "metadata": {},
   "source": [
    "## Evaluate the train model with testing data\n",
    "* $F_1$ score method:\n",
    "  * $F_1$ score $= 2 * \\frac{precision*recall}{precision+recall}$\n",
    "  * Precision $= \\frac{True positive}{All positive}$\n",
    "  * Recall $= \\frac{True positive}{True positive + False negative}$\n",
    "* Tried two approaches to get F1 score.\n",
    "  1. Without weights, just use values on confusion matrix\n",
    "  2. With weights  \n",
    "    * Precision weight = $\\frac{number of actual k data}{number of total data}$\n",
    "    * Precision weight = $\\frac{number of data which is predicted as k}{number of total data}$"
   ]
  },
  {
   "cell_type": "code",
   "execution_count": 29,
   "metadata": {},
   "outputs": [],
   "source": [
    "class LabelTester(object):\n",
    "    def __init__(self, data_loader, binary_classifier, binary_trainer, label_classifier):\n",
    "        self.data_loader = deepcopy(data_loader)\n",
    "        self.binary_classifier = binary_classifier\n",
    "        self.binary_trainer = binary_trainer\n",
    "        self.label_classifier = label_classifier\n",
    "        \n",
    "        # generate feature vectors for test\n",
    "        self.test()\n",
    "        \n",
    "    # process test data\n",
    "    def test(self):\n",
    "        test_num_parameter = self.data_loader.p\n",
    "\n",
    "        test_basis_functions = self.data_loader.basis_functions\n",
    "        self.test_feature_vectors = np.zeros((test_num_parameter, self.data_loader.num_test), dtype=float)\n",
    "        for data in range(self.data_loader.num_test):\n",
    "            for p in range(test_num_parameter):\n",
    "                self.test_feature_vectors[p, data] = np.sum(test_basis_functions[:, p] * self.data_loader.list_image_test[:, data])\n",
    "        return self.test_feature_vectors\n",
    "\n",
    "    def train(self):\n",
    "        accuracies = 0\n",
    "        self.pred_result = []\n",
    "\n",
    "        for i in range(self.data_loader.num_test):\n",
    "            x = self.test_feature_vectors[:, i]\n",
    "            y = self.data_loader.list_label_test[i]\n",
    "            pred = self.label_classifier.predict_label(x)\n",
    "            self.pred_result.append(pred)\n",
    "            if y == pred:\n",
    "                accuracies += 1\n",
    "        return accuracies\n",
    "    \n",
    "    def plot_confusion_matrix(self):\n",
    "        actual_label = self.data_loader.list_label_test\n",
    "        predicted_label = self.pred_result\n",
    "        cm = confusion_matrix(actual_label, predicted_label)\n",
    "        cm_df = pd.DataFrame(cm,\n",
    "                            index = [\"0\", \"1\", \"2\", \"3\", \"4\", \"5\", \"6\", \"7\", \"8\", \"9\"],\n",
    "                            columns = [\"0\", \"1\", \"2\", \"3\", \"4\", \"5\", \"6\", \"7\", \"8\", \"9\"])\n",
    "        self.original_cm_df = pd.DataFrame(cm,\n",
    "                            index = [\"0\", \"1\", \"2\", \"3\", \"4\", \"5\", \"6\", \"7\", \"8\", \"9\"],\n",
    "                            columns = [\"0\", \"1\", \"2\", \"3\", \"4\", \"5\", \"6\", \"7\", \"8\", \"9\"])\n",
    "#         self.original_cm_df[\"sum\"] = self.original_cm_df.sum(axis=1)\n",
    "#         self.original_cm_df = self.original_cm_df.append(self.original_cm_df.agg(['sum']))\n",
    "        cm_df[\"sum\"] = cm_df.sum(axis=1)\n",
    "        cm_df = cm_df.loc[:,\"0\":\"sum\"].div(cm_df[\"sum\"], axis=0)\n",
    "        cm_df = cm_df.append(cm_df.agg(['sum']))\n",
    "        plt.figure(figsize=(15,7))\n",
    "        sns.heatmap(cm, cmap=\"YlGnBu\", annot = True, fmt=\"d\")\n",
    "        plt.title('Confusion Matrix of The Classifier')\n",
    "        plt.xlabel('Predicted')\n",
    "        plt.ylabel('Actual')\n",
    "        plt.show()\n",
    "        print('--------Display percentaged values in a tabular form--------')\n",
    "        print(cm_df)\n",
    "    \n",
    "    def compute_F1(self):\n",
    "        column_list = ['Precision', 'Recall', 'F1 score']\n",
    "        \n",
    "        self.cm_matrix = self.original_cm_df.as_matrix()\n",
    "        self.true_positive = np.diag(self.cm_matrix)\n",
    "        num_true_positive = np.sum(self.true_positive)\n",
    "        num_all_positive = self.data_loader.num_test\n",
    "        \n",
    "        num_false_negative = self.data_loader.num_test - num_true_positive\n",
    "        \n",
    "        self.precision = num_true_positive / num_all_positive\n",
    "        self.recall = num_true_positive / (num_true_positive + num_false_negative)\n",
    "        self.f1_score = 2 * ((self.precision*self.recall)/(self.precision+self.recall))\n",
    "        \n",
    "        scores = pd.Series({'Precision': self.precision, 'Recall': self.recall, 'F1 score': self.f1_score})\n",
    "        print('--------Display F1 score--------')\n",
    "        print(scores)\n",
    "\n",
    "    def compute_detail_F1(self):\n",
    "#         column_list = ['Precision', 'Recall', 'F1 score']\n",
    "        column_list = ['Weighted Precision', 'Weighted Recall', 'Weighted F1 score']\n",
    "        \n",
    "        self.cm_matrix = self.original_cm_df.as_matrix()\n",
    "        \n",
    "        self.true_positives = []\n",
    "        self.false_positives = []\n",
    "        self.false_negatives = []\n",
    "        self.precision_weight = []\n",
    "        self.recall_weight = []\n",
    "        \n",
    "        self.precisions = []\n",
    "        self.recalls = []\n",
    "        \n",
    "        self.precision_sum = 0\n",
    "        self.recall_sum = 0\n",
    "        \n",
    "        for i in range(10):\n",
    "            self.true_positives.append(self.cm_matrix[i, i])\n",
    "            self.false_positives.append(sum(self.cm_matrix[:, 0]) - self.cm_matrix[i, i])\n",
    "            self.false_negatives.append(sum(self.cm_matrix[0, :]) - self.cm_matrix[i, i])\n",
    "            self.precision_weight.append(sum(self.cm_matrix[:,0])/self.data_loader.num_test)\n",
    "            self.recall_weight.append(sum(self.cm_matrix[0,:])/self.data_loader.num_test)\n",
    "            \n",
    "            self.precisions.append(self.true_positives[i]/(self.true_positives[i]+self.false_positives[i]))\n",
    "            self.recalls.append(self.true_positives[i]/(self.true_positives[i]+self.false_negatives[i]))\n",
    "            \n",
    "            self.precision_sum += self.precision_weight[i]*(self.true_positives[i]/(self.true_positives[i]+self.false_positives[i]))\n",
    "            self.recall_sum += self.recall_weight[i]*(self.true_positives[i]/(self.true_positives[i]+self.false_negatives[i]))\n",
    "            print(f'precision for value {i}:', self.precisions[i])\n",
    "            print(f'recall for value {i}:', self.recalls[i])\n",
    "            print(f'F1 score for value {i}:', 2 * ((self.precisions[i]* self.recalls[i]) / (self.precisions[i] + self.recalls[i])))\n",
    "        self.f1_score = 2 * ((self.precision_sum * self.recall_sum) / (self.precision_sum + self.recall_sum))\n",
    "            \n",
    "#         self.true_positive = np.diag(self.cm_matrix)\n",
    "#         num_true_positive = np.sum(self.true_positive)\n",
    "#         num_all_positive = self.data_loader.num_test\n",
    "        \n",
    "#         num_false_negative = self.data_loader.num_test - num_true_positive\n",
    "        \n",
    "#         self.precision = num_true_positive / num_all_positive\n",
    "#         self.recall = num_true_positive / (num_true_positive + num_false_negative)\n",
    "#         self.f1_score = 2 * ((self.precision*self.recall)/(self.precision+self.recall))\n",
    "        \n",
    "#         scores = pd.Series({'Precision': self.precision, 'Recall': self.recall, 'F1 score': self.f1_score})\n",
    "        scores = pd.Series({'Weighted Precision': self.precision_sum,\n",
    "                            'Weighted Recall': self.recall_sum,\n",
    "                            'Weighted F1 score': self.f1_score})\n",
    "        print('--------Display aggregated F1 score with weight--------')\n",
    "        print(scores)"
   ]
  },
  {
   "cell_type": "markdown",
   "metadata": {},
   "source": [
    "## Execute train with training data\n",
    "* set learning rate = 0.0001\n",
    "* start from $p = 2^4$\n",
    "* epoch: 20"
   ]
  },
  {
   "cell_type": "code",
   "execution_count": 7,
   "metadata": {},
   "outputs": [],
   "source": [
    "# keep instances with varing p\n",
    "exponents = []\n",
    "data_loaders = []\n",
    "multi_binary_classifiers = []\n",
    "multi_binary_trainers = []\n",
    "label_classifiers = []\n",
    "label_testers = []"
   ]
  },
  {
   "cell_type": "markdown",
   "metadata": {},
   "source": [
    "### Train with $p = 2^4$"
   ]
  },
  {
   "cell_type": "code",
   "execution_count": 8,
   "metadata": {},
   "outputs": [],
   "source": [
    "# load data\n",
    "mnist_data_loader_ex4 = MnistDataLoader(\"mnist_train.csv\", \"mnist_test.csv\", 2**4, 0, 1)"
   ]
  },
  {
   "cell_type": "code",
   "execution_count": 9,
   "metadata": {},
   "outputs": [
    {
     "name": "stdout",
     "output_type": "stream",
     "text": [
      "bi-train for label 0\n",
      "Epoch=0, Accuracy=0.895167\n",
      "Epoch=1, Accuracy=0.913700\n",
      "Epoch=2, Accuracy=0.904800\n",
      "Epoch=3, Accuracy=0.904183\n",
      "Epoch=4, Accuracy=0.904317\n",
      "bi-train for label 1\n",
      "Epoch=0, Accuracy=0.925983\n",
      "Epoch=1, Accuracy=0.959167\n",
      "Epoch=2, Accuracy=0.962550\n",
      "Epoch=3, Accuracy=0.961233\n",
      "Epoch=4, Accuracy=0.950033\n",
      "bi-train for label 2\n",
      "Epoch=0, Accuracy=0.854300\n",
      "Epoch=1, Accuracy=0.862833\n",
      "Epoch=2, Accuracy=0.863017\n",
      "Epoch=3, Accuracy=0.864467\n",
      "Epoch=4, Accuracy=0.865067\n",
      "bi-train for label 3\n",
      "Epoch=0, Accuracy=0.868383\n",
      "Epoch=1, Accuracy=0.874917\n",
      "Epoch=2, Accuracy=0.874950\n",
      "Epoch=3, Accuracy=0.875550\n",
      "Epoch=4, Accuracy=0.876033\n",
      "bi-train for label 4\n",
      "Epoch=0, Accuracy=0.869417\n",
      "Epoch=1, Accuracy=0.884517\n",
      "Epoch=2, Accuracy=0.885567\n",
      "Epoch=3, Accuracy=0.884450\n",
      "Epoch=4, Accuracy=0.884250\n",
      "bi-train for label 5\n",
      "Epoch=0, Accuracy=0.854767\n",
      "Epoch=1, Accuracy=0.858283\n",
      "Epoch=2, Accuracy=0.856900\n",
      "Epoch=3, Accuracy=0.857033\n",
      "Epoch=4, Accuracy=0.856917\n",
      "bi-train for label 6\n",
      "Epoch=0, Accuracy=0.876200\n",
      "Epoch=1, Accuracy=0.875017\n",
      "Epoch=2, Accuracy=0.875600\n",
      "Epoch=3, Accuracy=0.875917\n",
      "Epoch=4, Accuracy=0.875600\n",
      "bi-train for label 7\n",
      "Epoch=0, Accuracy=0.862600\n",
      "Epoch=1, Accuracy=0.871083\n",
      "Epoch=2, Accuracy=0.870367\n",
      "Epoch=3, Accuracy=0.870150\n",
      "Epoch=4, Accuracy=0.870833\n",
      "bi-train for label 8\n",
      "Epoch=0, Accuracy=0.859150\n",
      "Epoch=1, Accuracy=0.850867\n",
      "Epoch=2, Accuracy=0.851600\n",
      "Epoch=3, Accuracy=0.851083\n",
      "Epoch=4, Accuracy=0.851467\n",
      "bi-train for label 9\n",
      "Epoch=0, Accuracy=0.833333\n",
      "Epoch=1, Accuracy=0.831750\n",
      "Epoch=2, Accuracy=0.832617\n",
      "Epoch=3, Accuracy=0.831017\n",
      "Epoch=4, Accuracy=0.832050\n"
     ]
    }
   ],
   "source": [
    "# set multi bi-classifier\n",
    "multi_binary_classifier_ex4 = MultiBinaryClassifier(mnist_data_loader_ex4, 0.0001)\n",
    "# train\n",
    "multi_binary_trainer_ex4 = MultiBinaryTrainerWithSign(multi_binary_classifier_ex4, mnist_data_loader_ex4)\n",
    "multi_binary_trainer_ex4.train(5)\n",
    "# append result\n",
    "exponents.append(2**4)\n",
    "data_loaders.append(mnist_data_loader_ex4)\n",
    "multi_binary_classifiers.append(multi_binary_classifier_ex4)\n",
    "multi_binary_trainers.append(multi_binary_trainer_ex4)"
   ]
  },
  {
   "cell_type": "markdown",
   "metadata": {},
   "source": [
    "### Train with $p = 2^6$"
   ]
  },
  {
   "cell_type": "code",
   "execution_count": 10,
   "metadata": {},
   "outputs": [],
   "source": [
    "# load data\n",
    "mnist_data_loader_ex6 = MnistDataLoader(\"mnist_train.csv\", \"mnist_test.csv\", 2**6, 0, 1)"
   ]
  },
  {
   "cell_type": "code",
   "execution_count": 11,
   "metadata": {},
   "outputs": [
    {
     "name": "stdout",
     "output_type": "stream",
     "text": [
      "bi-train for label 0\n",
      "Epoch=0, Accuracy=0.939183\n",
      "Epoch=1, Accuracy=0.962683\n",
      "Epoch=2, Accuracy=0.966567\n",
      "Epoch=3, Accuracy=0.967817\n",
      "Epoch=4, Accuracy=0.969083\n",
      "bi-train for label 1\n",
      "Epoch=0, Accuracy=0.940517\n",
      "Epoch=1, Accuracy=0.971233\n",
      "Epoch=2, Accuracy=0.975050\n",
      "Epoch=3, Accuracy=0.976333\n",
      "Epoch=4, Accuracy=0.977633\n",
      "bi-train for label 2\n",
      "Epoch=0, Accuracy=0.900533\n",
      "Epoch=1, Accuracy=0.940700\n",
      "Epoch=2, Accuracy=0.944800\n",
      "Epoch=3, Accuracy=0.946333\n",
      "Epoch=4, Accuracy=0.946100\n",
      "bi-train for label 3\n",
      "Epoch=0, Accuracy=0.883033\n",
      "Epoch=1, Accuracy=0.928467\n",
      "Epoch=2, Accuracy=0.933317\n",
      "Epoch=3, Accuracy=0.931367\n",
      "Epoch=4, Accuracy=0.924467\n",
      "bi-train for label 4\n",
      "Epoch=0, Accuracy=0.913767\n",
      "Epoch=1, Accuracy=0.944600\n",
      "Epoch=2, Accuracy=0.949967\n",
      "Epoch=3, Accuracy=0.952183\n",
      "Epoch=4, Accuracy=0.952633\n",
      "bi-train for label 5\n",
      "Epoch=0, Accuracy=0.878767\n",
      "Epoch=1, Accuracy=0.916450\n",
      "Epoch=2, Accuracy=0.918967\n",
      "Epoch=3, Accuracy=0.910650\n",
      "Epoch=4, Accuracy=0.908350\n",
      "bi-train for label 6\n",
      "Epoch=0, Accuracy=0.924033\n",
      "Epoch=1, Accuracy=0.952300\n",
      "Epoch=2, Accuracy=0.957683\n",
      "Epoch=3, Accuracy=0.960117\n",
      "Epoch=4, Accuracy=0.961067\n",
      "bi-train for label 7\n",
      "Epoch=0, Accuracy=0.919700\n",
      "Epoch=1, Accuracy=0.959833\n",
      "Epoch=2, Accuracy=0.964383\n",
      "Epoch=3, Accuracy=0.966850\n",
      "Epoch=4, Accuracy=0.967483\n",
      "bi-train for label 8\n",
      "Epoch=0, Accuracy=0.858400\n",
      "Epoch=1, Accuracy=0.890950\n",
      "Epoch=2, Accuracy=0.888967\n",
      "Epoch=3, Accuracy=0.883033\n",
      "Epoch=4, Accuracy=0.882683\n",
      "bi-train for label 9\n",
      "Epoch=0, Accuracy=0.874033\n",
      "Epoch=1, Accuracy=0.915550\n",
      "Epoch=2, Accuracy=0.920017\n",
      "Epoch=3, Accuracy=0.915550\n",
      "Epoch=4, Accuracy=0.910383\n"
     ]
    }
   ],
   "source": [
    "# set multi bi-classifier\n",
    "multi_binary_classifier_ex6 = MultiBinaryClassifier(mnist_data_loader_ex6, 0.0001)\n",
    "# train\n",
    "multi_binary_trainer_ex6 = MultiBinaryTrainerWithSign(multi_binary_classifier_ex6, mnist_data_loader_ex6)\n",
    "multi_binary_trainer_ex6.train(5)\n",
    "# append result\n",
    "exponents.append(2**6)\n",
    "data_loaders.append(mnist_data_loader_ex6)\n",
    "multi_binary_classifiers.append(multi_binary_classifier_ex6)\n",
    "multi_binary_trainers.append(multi_binary_trainer_ex6)"
   ]
  },
  {
   "cell_type": "markdown",
   "metadata": {},
   "source": [
    "### Train with $p = 2^8$"
   ]
  },
  {
   "cell_type": "code",
   "execution_count": 12,
   "metadata": {},
   "outputs": [],
   "source": [
    "# load data\n",
    "mnist_data_loader_ex8 = MnistDataLoader(\"mnist_train.csv\", \"mnist_test.csv\", 2**8, 0, 1)"
   ]
  },
  {
   "cell_type": "code",
   "execution_count": 13,
   "metadata": {},
   "outputs": [
    {
     "name": "stdout",
     "output_type": "stream",
     "text": [
      "bi-train for label 0\n",
      "Epoch=0, Accuracy=0.953333\n",
      "Epoch=1, Accuracy=0.977617\n",
      "Epoch=2, Accuracy=0.980483\n",
      "Epoch=3, Accuracy=0.981600\n",
      "Epoch=4, Accuracy=0.982567\n",
      "bi-train for label 1\n",
      "Epoch=0, Accuracy=0.957100\n",
      "Epoch=1, Accuracy=0.980633\n",
      "Epoch=2, Accuracy=0.982933\n",
      "Epoch=3, Accuracy=0.983833\n",
      "Epoch=4, Accuracy=0.984533\n",
      "bi-train for label 2\n",
      "Epoch=0, Accuracy=0.931767\n",
      "Epoch=1, Accuracy=0.957967\n",
      "Epoch=2, Accuracy=0.961083\n",
      "Epoch=3, Accuracy=0.962350\n",
      "Epoch=4, Accuracy=0.963067\n",
      "bi-train for label 3\n",
      "Epoch=0, Accuracy=0.921850\n",
      "Epoch=1, Accuracy=0.946317\n",
      "Epoch=2, Accuracy=0.950350\n",
      "Epoch=3, Accuracy=0.951700\n",
      "Epoch=4, Accuracy=0.953083\n",
      "bi-train for label 4\n",
      "Epoch=0, Accuracy=0.933967\n",
      "Epoch=1, Accuracy=0.961717\n",
      "Epoch=2, Accuracy=0.966183\n",
      "Epoch=3, Accuracy=0.968483\n",
      "Epoch=4, Accuracy=0.969700\n",
      "bi-train for label 5\n",
      "Epoch=0, Accuracy=0.915517\n",
      "Epoch=1, Accuracy=0.941917\n",
      "Epoch=2, Accuracy=0.947117\n",
      "Epoch=3, Accuracy=0.949367\n",
      "Epoch=4, Accuracy=0.951083\n",
      "bi-train for label 6\n",
      "Epoch=0, Accuracy=0.946150\n",
      "Epoch=1, Accuracy=0.972500\n",
      "Epoch=2, Accuracy=0.974717\n",
      "Epoch=3, Accuracy=0.975517\n",
      "Epoch=4, Accuracy=0.976150\n",
      "bi-train for label 7\n",
      "Epoch=0, Accuracy=0.949700\n",
      "Epoch=1, Accuracy=0.970450\n",
      "Epoch=2, Accuracy=0.972283\n",
      "Epoch=3, Accuracy=0.973317\n",
      "Epoch=4, Accuracy=0.974117\n",
      "bi-train for label 8\n",
      "Epoch=0, Accuracy=0.879550\n",
      "Epoch=1, Accuracy=0.907750\n",
      "Epoch=2, Accuracy=0.910417\n",
      "Epoch=3, Accuracy=0.910950\n",
      "Epoch=4, Accuracy=0.912000\n",
      "bi-train for label 9\n",
      "Epoch=0, Accuracy=0.907717\n",
      "Epoch=1, Accuracy=0.930367\n",
      "Epoch=2, Accuracy=0.934250\n",
      "Epoch=3, Accuracy=0.935950\n",
      "Epoch=4, Accuracy=0.936933\n"
     ]
    }
   ],
   "source": [
    "# set multi bi-classifier\n",
    "multi_binary_classifier_ex8 = MultiBinaryClassifier(mnist_data_loader_ex8, 0.0001)\n",
    "# train\n",
    "multi_binary_trainer_ex8 = MultiBinaryTrainerWithSign(multi_binary_classifier_ex8, mnist_data_loader_ex8)\n",
    "multi_binary_trainer_ex8.train(5)\n",
    "# append result\n",
    "exponents.append(2**8)\n",
    "data_loaders.append(mnist_data_loader_ex8)\n",
    "multi_binary_classifiers.append(multi_binary_classifier_ex8)\n",
    "multi_binary_trainers.append(multi_binary_trainer_ex8)"
   ]
  },
  {
   "cell_type": "markdown",
   "metadata": {},
   "source": [
    "### Train with $p = 2^{10}$"
   ]
  },
  {
   "cell_type": "code",
   "execution_count": 14,
   "metadata": {},
   "outputs": [],
   "source": [
    "# load data\n",
    "mnist_data_loader_ex10 = MnistDataLoader(\"mnist_train.csv\", \"mnist_test.csv\", 2**10, 0, 1)"
   ]
  },
  {
   "cell_type": "code",
   "execution_count": 15,
   "metadata": {},
   "outputs": [
    {
     "name": "stdout",
     "output_type": "stream",
     "text": [
      "bi-train for label 0\n",
      "Epoch=0, Accuracy=0.964283\n",
      "Epoch=1, Accuracy=0.980500\n",
      "Epoch=2, Accuracy=0.982867\n",
      "Epoch=3, Accuracy=0.983650\n",
      "Epoch=4, Accuracy=0.984000\n",
      "bi-train for label 1\n",
      "Epoch=0, Accuracy=0.972000\n",
      "Epoch=1, Accuracy=0.983900\n",
      "Epoch=2, Accuracy=0.985083\n",
      "Epoch=3, Accuracy=0.985783\n",
      "Epoch=4, Accuracy=0.986350\n",
      "bi-train for label 2\n",
      "Epoch=0, Accuracy=0.948067\n",
      "Epoch=1, Accuracy=0.963117\n",
      "Epoch=2, Accuracy=0.965300\n",
      "Epoch=3, Accuracy=0.966317\n",
      "Epoch=4, Accuracy=0.966717\n",
      "bi-train for label 3\n",
      "Epoch=0, Accuracy=0.939367\n",
      "Epoch=1, Accuracy=0.951683\n",
      "Epoch=2, Accuracy=0.953317\n",
      "Epoch=3, Accuracy=0.954900\n",
      "Epoch=4, Accuracy=0.955433\n",
      "bi-train for label 4\n",
      "Epoch=0, Accuracy=0.949883\n",
      "Epoch=1, Accuracy=0.968133\n",
      "Epoch=2, Accuracy=0.969900\n",
      "Epoch=3, Accuracy=0.971633\n",
      "Epoch=4, Accuracy=0.972800\n",
      "bi-train for label 5\n",
      "Epoch=0, Accuracy=0.929467\n",
      "Epoch=1, Accuracy=0.949183\n",
      "Epoch=2, Accuracy=0.952900\n",
      "Epoch=3, Accuracy=0.955067\n",
      "Epoch=4, Accuracy=0.956550\n",
      "bi-train for label 6\n",
      "Epoch=0, Accuracy=0.956800\n",
      "Epoch=1, Accuracy=0.974750\n",
      "Epoch=2, Accuracy=0.976767\n",
      "Epoch=3, Accuracy=0.977350\n",
      "Epoch=4, Accuracy=0.977483\n",
      "bi-train for label 7\n",
      "Epoch=0, Accuracy=0.956750\n",
      "Epoch=1, Accuracy=0.973383\n",
      "Epoch=2, Accuracy=0.975217\n",
      "Epoch=3, Accuracy=0.976000\n",
      "Epoch=4, Accuracy=0.976117\n",
      "bi-train for label 8\n",
      "Epoch=0, Accuracy=0.895933\n",
      "Epoch=1, Accuracy=0.912600\n",
      "Epoch=2, Accuracy=0.915033\n",
      "Epoch=3, Accuracy=0.917433\n",
      "Epoch=4, Accuracy=0.918700\n",
      "bi-train for label 9\n",
      "Epoch=0, Accuracy=0.919533\n",
      "Epoch=1, Accuracy=0.936883\n",
      "Epoch=2, Accuracy=0.938717\n",
      "Epoch=3, Accuracy=0.939933\n",
      "Epoch=4, Accuracy=0.940500\n"
     ]
    }
   ],
   "source": [
    "# set multi bi-classifier\n",
    "multi_binary_classifier_ex10 = MultiBinaryClassifier(mnist_data_loader_ex10, 0.0001)\n",
    "# train\n",
    "multi_binary_trainer_ex10 = MultiBinaryTrainerWithSign(multi_binary_classifier_ex10, mnist_data_loader_ex10)\n",
    "multi_binary_trainer_ex10.train(5)\n",
    "# append result\n",
    "exponents.append(2**10)\n",
    "data_loaders.append(mnist_data_loader_ex10)\n",
    "multi_binary_classifiers.append(multi_binary_classifier_ex10)\n",
    "multi_binary_trainers.append(multi_binary_trainer_ex10)"
   ]
  },
  {
   "cell_type": "markdown",
   "metadata": {},
   "source": [
    "## Testing##"
   ]
  },
  {
   "cell_type": "markdown",
   "metadata": {},
   "source": [
    "### Test with $p = 2^4$"
   ]
  },
  {
   "cell_type": "code",
   "execution_count": 30,
   "metadata": {},
   "outputs": [
    {
     "data": {
      "image/png": "[encoded data removed]",
      "text/plain": [
       "<Figure size 1080x504 with 2 Axes>"
      ]
     },
     "metadata": {},
     "output_type": "display_data"
    },
    {
     "name": "stdout",
     "output_type": "stream",
     "text": [
      "--------Display percentaged values in a tabular form--------\n",
      "            0         1         2         3         4         5         6  \\\n",
      "0    0.390816  0.001020  0.062245  0.040816  0.002041  0.011224  0.402041   \n",
      "1    0.000000  0.510132  0.001762  0.017621  0.001762  0.023789  0.003524   \n",
      "2    0.016473  0.045543  0.338178  0.108527  0.014535  0.008721  0.126938   \n",
      "3    0.033663  0.000990  0.020792  0.533663  0.001980  0.058416  0.168317   \n",
      "4    0.013238  0.002037  0.029532  0.099796  0.302444  0.018330  0.128310   \n",
      "5    0.049327  0.013453  0.033632  0.067265  0.005605  0.178251  0.289238   \n",
      "6    0.010438  0.003132  0.015658  0.028184  0.004175  0.019833  0.824635   \n",
      "7    0.001946  0.011673  0.013619  0.107977  0.001946  0.005837  0.030156   \n",
      "8    0.009240  0.021561  0.016427  0.119097  0.009240  0.011294  0.101643   \n",
      "9    0.001982  0.005946  0.016848  0.100099  0.018831  0.016848  0.116947   \n",
      "sum  0.527125  0.615487  0.548693  1.223045  0.362559  0.352542  2.191748   \n",
      "\n",
      "            7         8         9   sum  \n",
      "0    0.004082  0.055102  0.030612   1.0  \n",
      "1    0.259912  0.048458  0.133040   1.0  \n",
      "2    0.156008  0.142442  0.042636   1.0  \n",
      "3    0.054455  0.048515  0.079208   1.0  \n",
      "4    0.213849  0.062118  0.130346   1.0  \n",
      "5    0.035874  0.171525  0.155830   1.0  \n",
      "6    0.008351  0.058455  0.027140   1.0  \n",
      "7    0.699416  0.027237  0.100195   1.0  \n",
      "8    0.060575  0.476386  0.174538   1.0  \n",
      "9    0.372646  0.064420  0.285431   1.0  \n",
      "sum  1.865169  1.154658  1.158975  10.0  \n",
      "--------Display F1 score--------\n",
      "Precision    0.4567\n",
      "Recall       0.4567\n",
      "F1 score     0.4567\n",
      "dtype: float64\n",
      "precision for value 0: 0.745136186770428\n",
      "recall for value 0: 0.39081632653061227\n",
      "F1 score for value 0: 0.5127175368139223\n",
      "precision for value 1: 1.1264591439688716\n",
      "recall for value 1: 0.5908163265306122\n",
      "F1 score for value 1: 0.7751004016064257\n",
      "precision for value 2: 0.6789883268482491\n",
      "recall for value 2: 0.35612244897959183\n",
      "F1 score for value 2: 0.46720214190093706\n",
      "precision for value 3: 1.04863813229572\n",
      "recall for value 3: 0.55\n",
      "F1 score for value 3: 0.7215528781793842\n",
      "precision for value 4: 0.5778210116731517\n",
      "recall for value 4: 0.30306122448979594\n",
      "F1 score for value 4: 0.3975903614457832\n",
      "precision for value 5: 0.3093385214007782\n",
      "recall for value 5: 0.16224489795918368\n",
      "F1 score for value 5: 0.21285140562248994\n",
      "precision for value 6: 1.5369649805447472\n",
      "recall for value 6: 0.8061224489795918\n",
      "F1 score for value 6: 1.0575635876840697\n",
      "precision for value 7: 1.3988326848249026\n",
      "recall for value 7: 0.7336734693877551\n",
      "F1 score for value 7: 0.9625167336010709\n",
      "precision for value 8: 0.9027237354085603\n",
      "recall for value 8: 0.47346938775510206\n",
      "F1 score for value 8: 0.6211512717536815\n",
      "precision for value 9: 0.5603112840466926\n",
      "recall for value 9: 0.2938775510204082\n",
      "F1 score for value 9: 0.38554216867469887\n",
      "--------Display aggregated F1 score with weight--------\n",
      "Weighted Precision    0.4567\n",
      "Weighted Recall       0.4567\n",
      "Weighted F1 score     0.4567\n",
      "dtype: float64\n"
     ]
    },
    {
     "name": "stderr",
     "output_type": "stream",
     "text": [
      "/anaconda3/lib/python3.6/site-packages/ipykernel_launcher.py:62: FutureWarning: Method .as_matrix will be removed in a future version. Use .values instead.\n",
      "/anaconda3/lib/python3.6/site-packages/ipykernel_launcher.py:81: FutureWarning: Method .as_matrix will be removed in a future version. Use .values instead.\n"
     ]
    }
   ],
   "source": [
    "# testing\n",
    "label_classifier_ex4 = LabelClassifier(mnist_data_loader_ex4, multi_binary_classifier_ex4, multi_binary_trainer_ex4)\n",
    "label_tester_ex4 = LabelTester(mnist_data_loader_ex4, multi_binary_classifier_ex4, multi_binary_trainer_ex4, label_classifier_ex4)\n",
    "label_tester_ex4.train()\n",
    "label_tester_ex4.plot_confusion_matrix()\n",
    "label_tester_ex4.compute_F1()\n",
    "label_tester_ex4.compute_detail_F1()"
   ]
  },
  {
   "cell_type": "markdown",
   "metadata": {},
   "source": [
    "### Test with $p = 2^6$"
   ]
  },
  {
   "cell_type": "code",
   "execution_count": 32,
   "metadata": {
    "scrolled": false
   },
   "outputs": [
    {
     "data": {
      "image/png": "[encoded data removed]",
      "text/plain": [
       "<Figure size 1080x504 with 2 Axes>"
      ]
     },
     "metadata": {},
     "output_type": "display_data"
    },
    {
     "name": "stdout",
     "output_type": "stream",
     "text": [
      "--------Display percentaged values in a tabular form--------\n",
      "            0         1         2         3         4         5         6  \\\n",
      "0    0.893878  0.000000  0.002041  0.032653  0.003061  0.021429  0.016327   \n",
      "1    0.001762  0.946256  0.000881  0.015859  0.001762  0.001762  0.000000   \n",
      "2    0.033915  0.026163  0.508721  0.245155  0.011628  0.006783  0.039729   \n",
      "3    0.008911  0.007921  0.000990  0.924752  0.001980  0.015842  0.004950   \n",
      "4    0.005092  0.005092  0.008147  0.052953  0.729124  0.014257  0.027495   \n",
      "5    0.041480  0.015695  0.005605  0.252242  0.021300  0.423767  0.038117   \n",
      "6    0.022965  0.003132  0.005219  0.019833  0.007307  0.046973  0.848643   \n",
      "7    0.001946  0.020428  0.007782  0.049611  0.007782  0.011673  0.002918   \n",
      "8    0.013347  0.020534  0.003080  0.239220  0.017454  0.024641  0.035934   \n",
      "9    0.007929  0.006938  0.012884  0.073340  0.044599  0.014866  0.003964   \n",
      "sum  1.031222  1.052157  0.555350  1.905618  0.845998  0.581992  1.018077   \n",
      "\n",
      "            7         8         9   sum  \n",
      "0    0.002041  0.018367  0.010204   1.0  \n",
      "1    0.000881  0.022907  0.007930   1.0  \n",
      "2    0.017442  0.088178  0.022287   1.0  \n",
      "3    0.010891  0.008911  0.014851   1.0  \n",
      "4    0.004073  0.015275  0.138493   1.0  \n",
      "5    0.007848  0.126682  0.067265   1.0  \n",
      "6    0.000000  0.019833  0.026096   1.0  \n",
      "7    0.789883  0.020428  0.087549   1.0  \n",
      "8    0.002053  0.498973  0.144764   1.0  \n",
      "9    0.022795  0.003964  0.808722   1.0  \n",
      "sum  0.857907  0.823519  1.328159  10.0  \n",
      "--------Display F1 score--------\n",
      "Precision    0.743\n",
      "Recall       0.743\n",
      "F1 score     0.743\n",
      "dtype: float64\n"
     ]
    },
    {
     "name": "stderr",
     "output_type": "stream",
     "text": [
      "/anaconda3/lib/python3.6/site-packages/ipykernel_launcher.py:62: FutureWarning: Method .as_matrix will be removed in a future version. Use .values instead.\n"
     ]
    },
    {
     "data": {
      "text/plain": [
       "<bound method LabelTester.compute_detail_F1 of <__main__.LabelTester object at 0x1b8cbf7358>>"
      ]
     },
     "execution_count": 32,
     "metadata": {},
     "output_type": "execute_result"
    }
   ],
   "source": [
    "# testing\n",
    "label_classifier_ex6 = LabelClassifier(mnist_data_loader_ex6, multi_binary_classifier_ex6, multi_binary_trainer_ex6)\n",
    "label_tester_ex6 = LabelTester(mnist_data_loader_ex6, multi_binary_classifier_ex6, multi_binary_trainer_ex6, label_classifier_ex6)\n",
    "label_tester_ex6.train()\n",
    "label_tester_ex6.plot_confusion_matrix()\n",
    "label_tester_ex6.compute_F1()"
   ]
  },
  {
   "cell_type": "code",
   "execution_count": 35,
   "metadata": {},
   "outputs": [
    {
     "name": "stdout",
     "output_type": "stream",
     "text": [
      "precision for value 0: 0.8681863230921705\n",
      "recall for value 0: 0.8938775510204081\n",
      "F1 score for value 0: 0.8808446455505279\n",
      "precision for value 1: 1.064420218037661\n",
      "recall for value 1: 1.0959183673469388\n",
      "F1 score for value 1: 1.0799396681749622\n",
      "precision for value 2: 0.5203171456888008\n",
      "recall for value 2: 0.5357142857142857\n",
      "F1 score for value 2: 0.5279034690799397\n",
      "precision for value 3: 0.9256689791873142\n",
      "recall for value 3: 0.9530612244897959\n",
      "F1 score for value 3: 0.939165409753645\n",
      "precision for value 4: 0.709613478691774\n",
      "recall for value 4: 0.7306122448979592\n",
      "F1 score for value 4: 0.7199597787833081\n",
      "precision for value 5: 0.37462834489593655\n",
      "recall for value 5: 0.38571428571428573\n",
      "F1 score for value 5: 0.3800904977375565\n",
      "precision for value 6: 0.8057482656095144\n",
      "recall for value 6: 0.8295918367346938\n",
      "F1 score for value 6: 0.8174962292609351\n",
      "precision for value 7: 0.8047571853320119\n",
      "recall for value 7: 0.8285714285714286\n",
      "F1 score for value 7: 0.81649069884364\n",
      "precision for value 8: 0.48166501486620417\n",
      "recall for value 8: 0.4959183673469388\n",
      "F1 score for value 8: 0.48868778280542985\n",
      "precision for value 9: 0.8087215064420218\n",
      "recall for value 9: 0.8326530612244898\n",
      "F1 score for value 9: 0.8205128205128206\n",
      "--------Display aggregated F1 score with weight--------\n",
      "Weighted Precision    0.743\n",
      "Weighted Recall       0.743\n",
      "Weighted F1 score     0.743\n",
      "dtype: float64\n"
     ]
    },
    {
     "name": "stderr",
     "output_type": "stream",
     "text": [
      "/anaconda3/lib/python3.6/site-packages/ipykernel_launcher.py:81: FutureWarning: Method .as_matrix will be removed in a future version. Use .values instead.\n"
     ]
    }
   ],
   "source": [
    "label_tester_ex6.compute_detail_F1()"
   ]
  },
  {
   "cell_type": "markdown",
   "metadata": {},
   "source": [
    "### Test with $p = 2^8$"
   ]
  },
  {
   "cell_type": "code",
   "execution_count": 33,
   "metadata": {
    "scrolled": false
   },
   "outputs": [
    {
     "data": {
      "image/png": "[encoded data removed]",
      "text/plain": [
       "<Figure size 1080x504 with 2 Axes>"
      ]
     },
     "metadata": {},
     "output_type": "display_data"
    },
    {
     "name": "stdout",
     "output_type": "stream",
     "text": [
      "--------Display percentaged values in a tabular form--------\n",
      "            0         1         2         3         4         5         6  \\\n",
      "0    0.951020  0.000000  0.001020  0.004082  0.001020  0.005102  0.015306   \n",
      "1    0.000000  0.964758  0.002643  0.003524  0.000000  0.007048  0.003524   \n",
      "2    0.011628  0.015504  0.781977  0.035853  0.009690  0.007752  0.020349   \n",
      "3    0.003960  0.005941  0.016832  0.870297  0.000990  0.042574  0.006931   \n",
      "4    0.003055  0.001018  0.008147  0.005092  0.869654  0.001018  0.010183   \n",
      "5    0.013453  0.005605  0.004484  0.060538  0.021300  0.735426  0.022422   \n",
      "6    0.013570  0.003132  0.008351  0.003132  0.006263  0.021921  0.922756   \n",
      "7    0.002918  0.005837  0.019455  0.010700  0.012646  0.006809  0.001946   \n",
      "8    0.006160  0.018480  0.008214  0.028747  0.015400  0.035934  0.009240   \n",
      "9    0.007929  0.010902  0.001982  0.011893  0.050545  0.008920  0.000000   \n",
      "sum  1.013694  1.031176  0.853105  1.033858  0.987509  0.872505  1.012656   \n",
      "\n",
      "            7         8         9   sum  \n",
      "0    0.002041  0.018367  0.002041   1.0  \n",
      "1    0.002643  0.014978  0.000881   1.0  \n",
      "2    0.013566  0.096899  0.006783   1.0  \n",
      "3    0.011881  0.032673  0.007921   1.0  \n",
      "4    0.004073  0.029532  0.068228   1.0  \n",
      "5    0.007848  0.117713  0.011211   1.0  \n",
      "6    0.005219  0.013570  0.002088   1.0  \n",
      "7    0.879377  0.025292  0.035019   1.0  \n",
      "8    0.006160  0.852156  0.019507   1.0  \n",
      "9    0.022795  0.046581  0.838454   1.0  \n",
      "sum  0.955604  1.247761  0.992133  10.0  \n",
      "--------Display F1 score--------\n",
      "Precision    0.8687\n",
      "Recall       0.8687\n",
      "F1 score     0.8687\n",
      "dtype: float64\n"
     ]
    },
    {
     "name": "stderr",
     "output_type": "stream",
     "text": [
      "/anaconda3/lib/python3.6/site-packages/ipykernel_launcher.py:62: FutureWarning: Method .as_matrix will be removed in a future version. Use .values instead.\n"
     ]
    },
    {
     "data": {
      "text/plain": [
       "<bound method LabelTester.compute_detail_F1 of <__main__.LabelTester object at 0x1c64bd2320>>"
      ]
     },
     "execution_count": 33,
     "metadata": {},
     "output_type": "execute_result"
    }
   ],
   "source": [
    "# testing\n",
    "label_classifier_ex8 = LabelClassifier(mnist_data_loader_ex8, multi_binary_classifier_ex8, multi_binary_trainer_ex8)\n",
    "label_tester_ex8 = LabelTester(mnist_data_loader_ex8, multi_binary_classifier_ex8, multi_binary_trainer_ex8, label_classifier_ex8)\n",
    "label_tester_ex8.train()\n",
    "label_tester_ex8.plot_confusion_matrix()\n",
    "label_tester_ex8.compute_F1()"
   ]
  },
  {
   "cell_type": "code",
   "execution_count": 36,
   "metadata": {},
   "outputs": [
    {
     "name": "stdout",
     "output_type": "stream",
     "text": [
      "precision for value 0: 0.9385699899295066\n",
      "recall for value 0: 0.9510204081632653\n",
      "F1 score for value 0: 0.9447541814495692\n",
      "precision for value 1: 1.1027190332326284\n",
      "recall for value 1: 1.1173469387755102\n",
      "F1 score for value 1: 1.109984794728839\n",
      "precision for value 2: 0.8126888217522659\n",
      "recall for value 2: 0.823469387755102\n",
      "F1 score for value 2: 0.8180435884439939\n",
      "precision for value 3: 0.8851963746223565\n",
      "recall for value 3: 0.8969387755102041\n",
      "F1 score for value 3: 0.8910288900152052\n",
      "precision for value 4: 0.8600201409869084\n",
      "recall for value 4: 0.8714285714285714\n",
      "F1 score for value 4: 0.8656867714140903\n",
      "precision for value 5: 0.6606243705941591\n",
      "recall for value 5: 0.6693877551020408\n",
      "F1 score for value 5: 0.664977192093259\n",
      "precision for value 6: 0.8902316213494461\n",
      "recall for value 6: 0.9020408163265307\n",
      "F1 score for value 6: 0.8960973137354282\n",
      "precision for value 7: 0.9103726082578046\n",
      "recall for value 7: 0.9224489795918367\n",
      "F1 score for value 7: 0.9163710086163203\n",
      "precision for value 8: 0.8358509566968781\n",
      "recall for value 8: 0.8469387755102041\n",
      "F1 score for value 8: 0.8413583375570198\n",
      "precision for value 9: 0.851963746223565\n",
      "recall for value 9: 0.863265306122449\n",
      "F1 score for value 9: 0.8575772934617333\n",
      "--------Display aggregated F1 score with weight--------\n",
      "Weighted Precision    0.8687\n",
      "Weighted Recall       0.8687\n",
      "Weighted F1 score     0.8687\n",
      "dtype: float64\n"
     ]
    },
    {
     "name": "stderr",
     "output_type": "stream",
     "text": [
      "/anaconda3/lib/python3.6/site-packages/ipykernel_launcher.py:81: FutureWarning: Method .as_matrix will be removed in a future version. Use .values instead.\n"
     ]
    }
   ],
   "source": [
    "label_tester_ex8.compute_detail_F1()"
   ]
  },
  {
   "cell_type": "markdown",
   "metadata": {},
   "source": [
    "### Test with $p = 2^{10}$"
   ]
  },
  {
   "cell_type": "code",
   "execution_count": 34,
   "metadata": {},
   "outputs": [
    {
     "data": {
      "image/png": "[encoded data removed]",
      "text/plain": [
       "<Figure size 1080x504 with 2 Axes>"
      ]
     },
     "metadata": {},
     "output_type": "display_data"
    },
    {
     "name": "stdout",
     "output_type": "stream",
     "text": [
      "--------Display percentaged values in a tabular form--------\n",
      "            0         1         2         3         4         5         6  \\\n",
      "0    0.980612  0.000000  0.003061  0.001020  0.001020  0.001020  0.008163   \n",
      "1    0.000881  0.969163  0.005286  0.003524  0.000000  0.001762  0.004405   \n",
      "2    0.007752  0.014535  0.804264  0.056202  0.021318  0.003876  0.020349   \n",
      "3    0.007921  0.001980  0.016832  0.889109  0.001980  0.029703  0.003960   \n",
      "4    0.001018  0.006110  0.007128  0.004073  0.887984  0.001018  0.014257   \n",
      "5    0.023543  0.005605  0.007848  0.100897  0.026906  0.682735  0.022422   \n",
      "6    0.008351  0.002088  0.004175  0.002088  0.007307  0.008351  0.953027   \n",
      "7    0.003891  0.014591  0.021401  0.011673  0.010700  0.000973  0.000973   \n",
      "8    0.011294  0.021561  0.005133  0.042094  0.020534  0.024641  0.012320   \n",
      "9    0.005946  0.010902  0.001982  0.011893  0.038652  0.000991  0.001982   \n",
      "sum  1.051209  1.046535  0.877110  1.122574  1.016401  0.755070  1.041858   \n",
      "\n",
      "            7         8         9   sum  \n",
      "0    0.001020  0.003061  0.001020   1.0  \n",
      "1    0.000881  0.011454  0.002643   1.0  \n",
      "2    0.010659  0.051357  0.009690   1.0  \n",
      "3    0.011881  0.012871  0.023762   1.0  \n",
      "4    0.000000  0.015275  0.063136   1.0  \n",
      "5    0.010090  0.084081  0.035874   1.0  \n",
      "6    0.001044  0.011482  0.002088   1.0  \n",
      "7    0.852140  0.009728  0.073930   1.0  \n",
      "8    0.007187  0.801848  0.053388   1.0  \n",
      "9    0.017839  0.016848  0.892963   1.0  \n",
      "sum  0.912741  1.018005  1.158496  10.0  \n",
      "--------Display F1 score--------\n",
      "Precision    0.8741\n",
      "Recall       0.8741\n",
      "F1 score     0.8741\n",
      "dtype: float64\n"
     ]
    },
    {
     "name": "stderr",
     "output_type": "stream",
     "text": [
      "/anaconda3/lib/python3.6/site-packages/ipykernel_launcher.py:62: FutureWarning: Method .as_matrix will be removed in a future version. Use .values instead.\n"
     ]
    },
    {
     "data": {
      "text/plain": [
       "<bound method LabelTester.compute_detail_F1 of <__main__.LabelTester object at 0x1b7259bb70>>"
      ]
     },
     "execution_count": 34,
     "metadata": {},
     "output_type": "execute_result"
    }
   ],
   "source": [
    "# testing\n",
    "label_classifier_ex10 = LabelClassifier(mnist_data_loader_ex10, multi_binary_classifier_ex10, multi_binary_trainer_ex10)\n",
    "label_tester_ex10 = LabelTester(mnist_data_loader_ex10, multi_binary_classifier_ex10, multi_binary_trainer_ex10, label_classifier_ex10)\n",
    "label_tester_ex10.train()\n",
    "label_tester_ex10.plot_confusion_matrix()\n",
    "label_tester_ex10.compute_F1()\n",
    "label_tester_ex10.compute_detail_F1"
   ]
  },
  {
   "cell_type": "code",
   "execution_count": 37,
   "metadata": {},
   "outputs": [
    {
     "name": "stdout",
     "output_type": "stream",
     "text": [
      "precision for value 0: 0.9339164237123421\n",
      "recall for value 0: 0.9806122448979592\n",
      "F1 score for value 0: 0.9566948730711797\n",
      "precision for value 1: 1.0689990281827018\n",
      "recall for value 1: 1.1224489795918366\n",
      "F1 score for value 1: 1.095072175211548\n",
      "precision for value 2: 0.8066083576287658\n",
      "recall for value 2: 0.8469387755102041\n",
      "F1 score for value 2: 0.8262817322050772\n",
      "precision for value 3: 0.8726919339164237\n",
      "recall for value 3: 0.9163265306122449\n",
      "F1 score for value 3: 0.8939771030363365\n",
      "precision for value 4: 0.847424684159378\n",
      "recall for value 4: 0.889795918367347\n",
      "F1 score for value 4: 0.8680935788949725\n",
      "precision for value 5: 0.5918367346938775\n",
      "recall for value 5: 0.6214285714285714\n",
      "F1 score for value 5: 0.6062717770034843\n",
      "precision for value 6: 0.8872691933916423\n",
      "recall for value 6: 0.9316326530612244\n",
      "F1 score for value 6: 0.9089099054255848\n",
      "precision for value 7: 0.8513119533527697\n",
      "recall for value 7: 0.8938775510204081\n",
      "F1 score for value 7: 0.8720756595321054\n",
      "precision for value 8: 0.7589893100097181\n",
      "recall for value 8: 0.7969387755102041\n",
      "F1 score for value 8: 0.7775012444001991\n",
      "precision for value 9: 0.8756073858114675\n",
      "recall for value 9: 0.9193877551020408\n",
      "F1 score for value 9: 0.8969636635141862\n",
      "--------Display aggregated F1 score with weight--------\n",
      "Weighted Precision    0.8741\n",
      "Weighted Recall       0.8741\n",
      "Weighted F1 score     0.8741\n",
      "dtype: float64\n"
     ]
    },
    {
     "name": "stderr",
     "output_type": "stream",
     "text": [
      "/anaconda3/lib/python3.6/site-packages/ipykernel_launcher.py:81: FutureWarning: Method .as_matrix will be removed in a future version. Use .values instead.\n"
     ]
    }
   ],
   "source": [
    "label_tester_ex10.compute_detail_F1()"
   ]
  },
  {
   "cell_type": "markdown",
   "metadata": {},
   "source": [
    "## Testing Summary"
   ]
  },
  {
   "cell_type": "code",
   "execution_count": 20,
   "metadata": {},
   "outputs": [
    {
     "data": {
      "image/png": "[encoded data removed]",
      "text/plain": [
       "<Figure size 432x288 with 1 Axes>"
      ]
     },
     "metadata": {},
     "output_type": "display_data"
    }
   ],
   "source": [
    "F1_list = [label_tester_ex4.f1_score,\n",
    "           label_tester_ex6.f1_score,\n",
    "          label_tester_ex8.f1_score,\n",
    "          label_tester_ex10.f1_score]\n",
    "str_exponents = list(map(str,exponents))\n",
    "\n",
    "fig, ax = plt.subplots()\n",
    "ax.plot(str_exponents, F1_list, marker='o', label=\"F1 Score\")\n",
    "ax.legend(bbox_to_anchor=(1.05, 1), loc=2, borderaxespad=0.)\n",
    "ax.set_xlabel('the number of model parameters')\n",
    "\n",
    "plt.show()"
   ]
  },
  {
   "cell_type": "markdown",
   "metadata": {},
   "source": [
    "> As the number of parameters increases the F1 Score becomes higher."
   ]
  }
 ],
 "metadata": {
  "kernelspec": {
   "display_name": "Python 3",
   "language": "python",
   "name": "python3"
  },
  "language_info": {
   "codemirror_mode": {
    "name": "ipython",
    "version": 3
   },
   "file_extension": ".py",
   "mimetype": "text/x-python",
   "name": "python",
   "nbconvert_exporter": "python",
   "pygments_lexer": "ipython3",
   "version": "3.6.5"
  }
 },
 "nbformat": 4,
 "nbformat_minor": 2
}
