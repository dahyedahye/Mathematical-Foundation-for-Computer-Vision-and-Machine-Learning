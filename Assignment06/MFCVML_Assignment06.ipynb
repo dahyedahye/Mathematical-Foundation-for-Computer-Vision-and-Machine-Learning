{
 "cells": [
  {
   "cell_type": "code",
   "execution_count": 2,
   "metadata": {},
   "outputs": [
    {
     "ename": "SyntaxError",
     "evalue": "invalid syntax (<ipython-input-2-25fc66b1b98f>, line 18)",
     "output_type": "error",
     "traceback": [
      "\u001b[0;36m  File \u001b[0;32m\"<ipython-input-2-25fc66b1b98f>\"\u001b[0;36m, line \u001b[0;32m18\u001b[0m\n\u001b[0;31m    x  : x-coordinate data\u001b[0m\n\u001b[0m                         ^\u001b[0m\n\u001b[0;31mSyntaxError\u001b[0m\u001b[0;31m:\u001b[0m invalid syntax\n"
     ]
    }
   ],
   "source": [
    "import numpy as np\n",
    "import matplotlib.pyplot as plt\n",
    "\n",
    "num     = 201\n",
    "std     = 20\n",
    "a       = 2 \n",
    "b       = 10\n",
    "\n",
    "n       = np.random.rand(num)\n",
    "nn      = n - np.mean(n)\n",
    "x       = np.linspace(-100,100,num)\n",
    "y1      = a * x + nn * std + b \n",
    "y2      = a * x + b\n",
    "\n",
    "plt.plot(x, y1, 'b.', x, y2, 'k--')\n",
    "plt.show()\n",
    "\n",
    "x  : x-coordinate data\n",
    "y1 : (noisy) y-coordinate data\n",
    "y2 : (clean) y-coordinate data \n",
    "y = f(x) = a * x + b"
   ]
  },
  {
   "cell_type": "code",
   "execution_count": null,
   "metadata": {},
   "outputs": [],
   "source": []
  }
 ],
 "metadata": {
  "kernelspec": {
   "display_name": "Python 3",
   "language": "python",
   "name": "python3"
  },
  "language_info": {
   "codemirror_mode": {
    "name": "ipython",
    "version": 3
   },
   "file_extension": ".py",
   "mimetype": "text/x-python",
   "name": "python",
   "nbconvert_exporter": "python",
   "pygments_lexer": "ipython3",
   "version": "3.6.5"
  }
 },
 "nbformat": 4,
 "nbformat_minor": 2
}
